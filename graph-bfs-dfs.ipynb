{
 "cells": [
  {
   "cell_type": "code",
   "execution_count": 10,
   "id": "3b8aaa51-cdd3-4d39-af28-c3b6571717e3",
   "metadata": {},
   "outputs": [
    {
     "name": "stdout",
     "output_type": "stream",
     "text": [
      "\n",
      "BFS order of traversal:  A B C D E F \n",
      "DFS order of traversal:  A B D F C E "
     ]
    }
   ],
   "source": [
    "# Madelyn Good\n",
    "# CSC 429 Project 1\n",
    "# 1/24/25\n",
    "\n",
    "# Implement BFS and DFS using provided graph and grid in lecture \"1-Search(1)\"\n",
    "\n",
    "# --- GRAPH ---\n",
    "graph = {\"A\" : [\"B\"], \"B\": [\"C\",\"D\"], \"C\": [\"E\"], \"E\": [], \"D\": [\"F\"], \"F\": []}\n",
    "\n",
    "# --- bfs ---\n",
    "def BFS(graph, node):\n",
    "    queue = [node]\n",
    "    visited = [node]\n",
    "\n",
    "    print(\"\\nBFS order of traversal: \", end=\" \")\n",
    "\n",
    "    while queue:\n",
    "        m = queue.pop(0)\n",
    "        print(m, end=\" \")\n",
    "\n",
    "        for neighbour in graph[m]:\n",
    "            if neighbour not in visited:\n",
    "                queue.append(neighbour)\n",
    "                visited.append(neighbour)\n",
    "\n",
    "# --- dfs ---\n",
    "def DFS(graph, node):\n",
    "    stack = [node]\n",
    "    visited = []\n",
    "\n",
    "    print(\"\\nDFS order of traversal: \", end=\" \")\n",
    "\n",
    "    while stack:\n",
    "        s = stack.pop()\n",
    "\n",
    "        if s not in visited:\n",
    "            visited.append(s)\n",
    "            print(s, end=\" \")\n",
    "\n",
    "        for neighbour in graph[s]:\n",
    "            if neighbour not in visited:\n",
    "                stack.append(neighbour)\n",
    "\n",
    "# results\n",
    "BFS(graph, \"A\")\n",
    "DFS(graph, \"A\")"
   ]
  },
  {
   "cell_type": "code",
   "execution_count": null,
   "id": "ca17be35-b6fa-4534-9eba-acc6a2e0ec31",
   "metadata": {},
   "outputs": [],
   "source": []
  }
 ],
 "metadata": {
  "kernelspec": {
   "display_name": "Python 3 (ipykernel)",
   "language": "python",
   "name": "python3"
  },
  "language_info": {
   "codemirror_mode": {
    "name": "ipython",
    "version": 3
   },
   "file_extension": ".py",
   "mimetype": "text/x-python",
   "name": "python",
   "nbconvert_exporter": "python",
   "pygments_lexer": "ipython3",
   "version": "3.12.8"
  }
 },
 "nbformat": 4,
 "nbformat_minor": 5
}
